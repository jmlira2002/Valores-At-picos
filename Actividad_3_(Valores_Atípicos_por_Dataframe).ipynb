{
  "nbformat": 4,
  "nbformat_minor": 0,
  "metadata": {
    "colab": {
      "provenance": [],
      "authorship_tag": "ABX9TyM740kd1LDMCAMUtv1DNiRQ",
      "include_colab_link": true
    },
    "kernelspec": {
      "name": "python3",
      "display_name": "Python 3"
    },
    "language_info": {
      "name": "python"
    }
  },
  "cells": [
    {
      "cell_type": "markdown",
      "metadata": {
        "id": "view-in-github",
        "colab_type": "text"
      },
      "source": [
        "<a href=\"https://colab.research.google.com/github/jmlira2002/Valores-At-picos/blob/main/Actividad_3_(Valores_At%C3%ADpicos_por_Dataframe).ipynb\" target=\"_parent\"><img src=\"https://colab.research.google.com/assets/colab-badge.svg\" alt=\"Open In Colab\"/></a>"
      ]
    },
    {
      "cell_type": "markdown",
      "source": [
        "#**JOSÉ MARÍA MARTÍNEZ LIRA A01707738**\n",
        "##**Actividad 3 (Valores Atípicos por Dataframe)**"
      ],
      "metadata": {
        "id": "NuK6YbNIeF-v"
      }
    },
    {
      "cell_type": "code",
      "source": [
        "#Importamos la libreria pandas y cargamos archivo excel\n",
        "import pandas as pd\n",
        "df = pd.read_excel('/content/Gastos y costos 20-23.xlsx', sheet_name='2023')\n",
        "df"
      ],
      "metadata": {
        "colab": {
          "base_uri": "https://localhost:8080/",
          "height": 929
        },
        "id": "zhujkBNufkHp",
        "outputId": "335abff8-c6e8-4c89-ca4e-b091628a929d"
      },
      "execution_count": 177,
      "outputs": [
        {
          "output_type": "execute_result",
          "data": {
            "text/plain": [
              "    CALOR Y CONTROL S.A DE C.V  Unnamed: 1  \\\n",
              "0             DEDUCCIONES 2023         NaN   \n",
              "1                          NaN         NaN   \n",
              "2                        Fecha       Folio   \n",
              "3          2023-01-01 00:00:00          31   \n",
              "4          2023-01-01 00:00:00          38   \n",
              "..                         ...         ...   \n",
              "395        2023-02-01 00:00:00      882974   \n",
              "396        2023-02-01 00:00:00      053560   \n",
              "397        2023-02-01 00:00:00  1092957089   \n",
              "398        2023-02-01 00:00:00     1453820   \n",
              "399        2023-02-01 00:00:00          18   \n",
              "\n",
              "                               Unnamed: 2    Unnamed: 3  \\\n",
              "0                                     NaN           NaN   \n",
              "1                                     NaN           NaN   \n",
              "2                                    UUID           RFC   \n",
              "3    49536321-60A4-523E-A32F-E8BDF5C2276E  AAE6411055P8   \n",
              "4    20FBB63B-D550-512F-9668-EEC6F983CEB7  AAE6411055P8   \n",
              "..                                    ...           ...   \n",
              "395  3E97C399-6747-4BCA-8436-ED4B0933DF33  BIN940223KE0   \n",
              "396  B7132758-F800-4797-B1D6-CC61AFFEE444  BPU7901018D4   \n",
              "397  D1E2DC1E-9FFB-46C6-82E4-B350B83CB6F7  BMN930209927   \n",
              "398  6249FE27-6FA6-4EFB-910E-3CD67A0E29A1  EFE8908015L3   \n",
              "399  439A9230-277E-5563-818C-7630B0E8D706  AAE6411055P8   \n",
              "\n",
              "                                            Unnamed: 4         Unnamed: 5  \\\n",
              "0                                                  NaN                NaN   \n",
              "1                                                  NaN                NaN   \n",
              "2                                            Proveedor         TIPO GASTO   \n",
              "3                            AESA ARTICULOS ELECTRICOS            COMPRAS   \n",
              "4                            AESA ARTICULOS ELECTRICOS            COMPRAS   \n",
              "..                                                 ...                ...   \n",
              "395  BANCO INVEX, S.A., INSTITUCION DE BANCA MULTIP...  COMISION BANCARIA   \n",
              "396                                BEBIDAS PURIFICADAS          ALIMENTOS   \n",
              "397  BANCO MERCANTIL DEL NORTE SA INSTITUCION DE BA...  COMISION BANCARIA   \n",
              "398                      EFECTIVALE S. de R.L. de C.V.           GASOLINA   \n",
              "399                          AESA ARTICULOS ELECTRICOS            COMPRAS   \n",
              "\n",
              "                                            Unnamed: 6 Unnamed: 7 Unnamed: 8  \\\n",
              "0                                                  NaN        NaN        NaN   \n",
              "1                                                  NaN        NaN        NaN   \n",
              "2                                          Descripción         MP         FP   \n",
              "3                                                 Pago        NaN        NaN   \n",
              "4                                                 Pago        NaN        NaN   \n",
              "..                                                 ...        ...        ...   \n",
              "395                             COMISIONES E INTERESES        PUE         03   \n",
              "396                         Epura 20 Lts Policarbonato        PUE         01   \n",
              "397                                SERVICIOS BANCARIOS        PUE         03   \n",
              "398  CONSUMOS DE COMBUSTIBLE DE MONEDEROS ELECTRONICOS        PUE         05   \n",
              "399                                               Pago        NaN        NaN   \n",
              "\n",
              "    Unnamed: 9 Unnamed: 10 Unnamed: 11 Unnamed: 12 Unnamed: 13 Unnamed: 14  \\\n",
              "0          NaN         NaN         NaN         NaN         NaN         NaN   \n",
              "1          NaN         NaN         NaN         NaN         NaN         NaN   \n",
              "2           TC     Importe         IVA     RET ISR     RET IVA       Otros   \n",
              "3            1           0           0           0           0         NaN   \n",
              "4            1           0           0           0           0         NaN   \n",
              "..         ...         ...         ...         ...         ...         ...   \n",
              "395          1           0           0           0           0         NaN   \n",
              "396          1         220           0           0           0         NaN   \n",
              "397          1    18071.52       682.4           0           0         NaN   \n",
              "398          1    14472.32           0           0           0         NaN   \n",
              "399          1           0           0           0           0         NaN   \n",
              "\n",
              "     SUMA GTO 1558002.16 Unnamed: 17 Unnamed: 18 Unnamed: 19  \n",
              "0    SUMA IVA  197471.85         NaN         NaN         NaN  \n",
              "1         NaN        NaN         NaN         NaN         NaN  \n",
              "2    TOTAL MX  TOTAL SAT        Tipo      Status      Poliza  \n",
              "3           0          0           P     Vigente         NaN  \n",
              "4           0          0           P     Vigente         NaN  \n",
              "..        ...        ...         ...         ...         ...  \n",
              "395         0          0           I     Vigente         NaN  \n",
              "396       220        220           I     Vigente         NaN  \n",
              "397  18753.92   18753.92           I     Vigente         NaN  \n",
              "398  14472.32   14472.32           I     Vigente         NaN  \n",
              "399         0          0           P     Vigente         NaN  \n",
              "\n",
              "[400 rows x 20 columns]"
            ],
            "text/html": [
              "\n",
              "  <div id=\"df-e011ccbf-49c2-4be4-a8fa-8d7921d6de43\" class=\"colab-df-container\">\n",
              "    <div>\n",
              "<style scoped>\n",
              "    .dataframe tbody tr th:only-of-type {\n",
              "        vertical-align: middle;\n",
              "    }\n",
              "\n",
              "    .dataframe tbody tr th {\n",
              "        vertical-align: top;\n",
              "    }\n",
              "\n",
              "    .dataframe thead th {\n",
              "        text-align: right;\n",
              "    }\n",
              "</style>\n",
              "<table border=\"1\" class=\"dataframe\">\n",
              "  <thead>\n",
              "    <tr style=\"text-align: right;\">\n",
              "      <th></th>\n",
              "      <th>CALOR Y CONTROL S.A DE C.V</th>\n",
              "      <th>Unnamed: 1</th>\n",
              "      <th>Unnamed: 2</th>\n",
              "      <th>Unnamed: 3</th>\n",
              "      <th>Unnamed: 4</th>\n",
              "      <th>Unnamed: 5</th>\n",
              "      <th>Unnamed: 6</th>\n",
              "      <th>Unnamed: 7</th>\n",
              "      <th>Unnamed: 8</th>\n",
              "      <th>Unnamed: 9</th>\n",
              "      <th>Unnamed: 10</th>\n",
              "      <th>Unnamed: 11</th>\n",
              "      <th>Unnamed: 12</th>\n",
              "      <th>Unnamed: 13</th>\n",
              "      <th>Unnamed: 14</th>\n",
              "      <th>SUMA GTO</th>\n",
              "      <th>1558002.16</th>\n",
              "      <th>Unnamed: 17</th>\n",
              "      <th>Unnamed: 18</th>\n",
              "      <th>Unnamed: 19</th>\n",
              "    </tr>\n",
              "  </thead>\n",
              "  <tbody>\n",
              "    <tr>\n",
              "      <th>0</th>\n",
              "      <td>DEDUCCIONES 2023</td>\n",
              "      <td>NaN</td>\n",
              "      <td>NaN</td>\n",
              "      <td>NaN</td>\n",
              "      <td>NaN</td>\n",
              "      <td>NaN</td>\n",
              "      <td>NaN</td>\n",
              "      <td>NaN</td>\n",
              "      <td>NaN</td>\n",
              "      <td>NaN</td>\n",
              "      <td>NaN</td>\n",
              "      <td>NaN</td>\n",
              "      <td>NaN</td>\n",
              "      <td>NaN</td>\n",
              "      <td>NaN</td>\n",
              "      <td>SUMA IVA</td>\n",
              "      <td>197471.85</td>\n",
              "      <td>NaN</td>\n",
              "      <td>NaN</td>\n",
              "      <td>NaN</td>\n",
              "    </tr>\n",
              "    <tr>\n",
              "      <th>1</th>\n",
              "      <td>NaN</td>\n",
              "      <td>NaN</td>\n",
              "      <td>NaN</td>\n",
              "      <td>NaN</td>\n",
              "      <td>NaN</td>\n",
              "      <td>NaN</td>\n",
              "      <td>NaN</td>\n",
              "      <td>NaN</td>\n",
              "      <td>NaN</td>\n",
              "      <td>NaN</td>\n",
              "      <td>NaN</td>\n",
              "      <td>NaN</td>\n",
              "      <td>NaN</td>\n",
              "      <td>NaN</td>\n",
              "      <td>NaN</td>\n",
              "      <td>NaN</td>\n",
              "      <td>NaN</td>\n",
              "      <td>NaN</td>\n",
              "      <td>NaN</td>\n",
              "      <td>NaN</td>\n",
              "    </tr>\n",
              "    <tr>\n",
              "      <th>2</th>\n",
              "      <td>Fecha</td>\n",
              "      <td>Folio</td>\n",
              "      <td>UUID</td>\n",
              "      <td>RFC</td>\n",
              "      <td>Proveedor</td>\n",
              "      <td>TIPO GASTO</td>\n",
              "      <td>Descripción</td>\n",
              "      <td>MP</td>\n",
              "      <td>FP</td>\n",
              "      <td>TC</td>\n",
              "      <td>Importe</td>\n",
              "      <td>IVA</td>\n",
              "      <td>RET ISR</td>\n",
              "      <td>RET IVA</td>\n",
              "      <td>Otros</td>\n",
              "      <td>TOTAL MX</td>\n",
              "      <td>TOTAL SAT</td>\n",
              "      <td>Tipo</td>\n",
              "      <td>Status</td>\n",
              "      <td>Poliza</td>\n",
              "    </tr>\n",
              "    <tr>\n",
              "      <th>3</th>\n",
              "      <td>2023-01-01 00:00:00</td>\n",
              "      <td>31</td>\n",
              "      <td>49536321-60A4-523E-A32F-E8BDF5C2276E</td>\n",
              "      <td>AAE6411055P8</td>\n",
              "      <td>AESA ARTICULOS ELECTRICOS</td>\n",
              "      <td>COMPRAS</td>\n",
              "      <td>Pago</td>\n",
              "      <td>NaN</td>\n",
              "      <td>NaN</td>\n",
              "      <td>1</td>\n",
              "      <td>0</td>\n",
              "      <td>0</td>\n",
              "      <td>0</td>\n",
              "      <td>0</td>\n",
              "      <td>NaN</td>\n",
              "      <td>0</td>\n",
              "      <td>0</td>\n",
              "      <td>P</td>\n",
              "      <td>Vigente</td>\n",
              "      <td>NaN</td>\n",
              "    </tr>\n",
              "    <tr>\n",
              "      <th>4</th>\n",
              "      <td>2023-01-01 00:00:00</td>\n",
              "      <td>38</td>\n",
              "      <td>20FBB63B-D550-512F-9668-EEC6F983CEB7</td>\n",
              "      <td>AAE6411055P8</td>\n",
              "      <td>AESA ARTICULOS ELECTRICOS</td>\n",
              "      <td>COMPRAS</td>\n",
              "      <td>Pago</td>\n",
              "      <td>NaN</td>\n",
              "      <td>NaN</td>\n",
              "      <td>1</td>\n",
              "      <td>0</td>\n",
              "      <td>0</td>\n",
              "      <td>0</td>\n",
              "      <td>0</td>\n",
              "      <td>NaN</td>\n",
              "      <td>0</td>\n",
              "      <td>0</td>\n",
              "      <td>P</td>\n",
              "      <td>Vigente</td>\n",
              "      <td>NaN</td>\n",
              "    </tr>\n",
              "    <tr>\n",
              "      <th>...</th>\n",
              "      <td>...</td>\n",
              "      <td>...</td>\n",
              "      <td>...</td>\n",
              "      <td>...</td>\n",
              "      <td>...</td>\n",
              "      <td>...</td>\n",
              "      <td>...</td>\n",
              "      <td>...</td>\n",
              "      <td>...</td>\n",
              "      <td>...</td>\n",
              "      <td>...</td>\n",
              "      <td>...</td>\n",
              "      <td>...</td>\n",
              "      <td>...</td>\n",
              "      <td>...</td>\n",
              "      <td>...</td>\n",
              "      <td>...</td>\n",
              "      <td>...</td>\n",
              "      <td>...</td>\n",
              "      <td>...</td>\n",
              "    </tr>\n",
              "    <tr>\n",
              "      <th>395</th>\n",
              "      <td>2023-02-01 00:00:00</td>\n",
              "      <td>882974</td>\n",
              "      <td>3E97C399-6747-4BCA-8436-ED4B0933DF33</td>\n",
              "      <td>BIN940223KE0</td>\n",
              "      <td>BANCO INVEX, S.A., INSTITUCION DE BANCA MULTIP...</td>\n",
              "      <td>COMISION BANCARIA</td>\n",
              "      <td>COMISIONES E INTERESES</td>\n",
              "      <td>PUE</td>\n",
              "      <td>03</td>\n",
              "      <td>1</td>\n",
              "      <td>0</td>\n",
              "      <td>0</td>\n",
              "      <td>0</td>\n",
              "      <td>0</td>\n",
              "      <td>NaN</td>\n",
              "      <td>0</td>\n",
              "      <td>0</td>\n",
              "      <td>I</td>\n",
              "      <td>Vigente</td>\n",
              "      <td>NaN</td>\n",
              "    </tr>\n",
              "    <tr>\n",
              "      <th>396</th>\n",
              "      <td>2023-02-01 00:00:00</td>\n",
              "      <td>053560</td>\n",
              "      <td>B7132758-F800-4797-B1D6-CC61AFFEE444</td>\n",
              "      <td>BPU7901018D4</td>\n",
              "      <td>BEBIDAS PURIFICADAS</td>\n",
              "      <td>ALIMENTOS</td>\n",
              "      <td>Epura 20 Lts Policarbonato</td>\n",
              "      <td>PUE</td>\n",
              "      <td>01</td>\n",
              "      <td>1</td>\n",
              "      <td>220</td>\n",
              "      <td>0</td>\n",
              "      <td>0</td>\n",
              "      <td>0</td>\n",
              "      <td>NaN</td>\n",
              "      <td>220</td>\n",
              "      <td>220</td>\n",
              "      <td>I</td>\n",
              "      <td>Vigente</td>\n",
              "      <td>NaN</td>\n",
              "    </tr>\n",
              "    <tr>\n",
              "      <th>397</th>\n",
              "      <td>2023-02-01 00:00:00</td>\n",
              "      <td>1092957089</td>\n",
              "      <td>D1E2DC1E-9FFB-46C6-82E4-B350B83CB6F7</td>\n",
              "      <td>BMN930209927</td>\n",
              "      <td>BANCO MERCANTIL DEL NORTE SA INSTITUCION DE BA...</td>\n",
              "      <td>COMISION BANCARIA</td>\n",
              "      <td>SERVICIOS BANCARIOS</td>\n",
              "      <td>PUE</td>\n",
              "      <td>03</td>\n",
              "      <td>1</td>\n",
              "      <td>18071.52</td>\n",
              "      <td>682.4</td>\n",
              "      <td>0</td>\n",
              "      <td>0</td>\n",
              "      <td>NaN</td>\n",
              "      <td>18753.92</td>\n",
              "      <td>18753.92</td>\n",
              "      <td>I</td>\n",
              "      <td>Vigente</td>\n",
              "      <td>NaN</td>\n",
              "    </tr>\n",
              "    <tr>\n",
              "      <th>398</th>\n",
              "      <td>2023-02-01 00:00:00</td>\n",
              "      <td>1453820</td>\n",
              "      <td>6249FE27-6FA6-4EFB-910E-3CD67A0E29A1</td>\n",
              "      <td>EFE8908015L3</td>\n",
              "      <td>EFECTIVALE S. de R.L. de C.V.</td>\n",
              "      <td>GASOLINA</td>\n",
              "      <td>CONSUMOS DE COMBUSTIBLE DE MONEDEROS ELECTRONICOS</td>\n",
              "      <td>PUE</td>\n",
              "      <td>05</td>\n",
              "      <td>1</td>\n",
              "      <td>14472.32</td>\n",
              "      <td>0</td>\n",
              "      <td>0</td>\n",
              "      <td>0</td>\n",
              "      <td>NaN</td>\n",
              "      <td>14472.32</td>\n",
              "      <td>14472.32</td>\n",
              "      <td>I</td>\n",
              "      <td>Vigente</td>\n",
              "      <td>NaN</td>\n",
              "    </tr>\n",
              "    <tr>\n",
              "      <th>399</th>\n",
              "      <td>2023-02-01 00:00:00</td>\n",
              "      <td>18</td>\n",
              "      <td>439A9230-277E-5563-818C-7630B0E8D706</td>\n",
              "      <td>AAE6411055P8</td>\n",
              "      <td>AESA ARTICULOS ELECTRICOS</td>\n",
              "      <td>COMPRAS</td>\n",
              "      <td>Pago</td>\n",
              "      <td>NaN</td>\n",
              "      <td>NaN</td>\n",
              "      <td>1</td>\n",
              "      <td>0</td>\n",
              "      <td>0</td>\n",
              "      <td>0</td>\n",
              "      <td>0</td>\n",
              "      <td>NaN</td>\n",
              "      <td>0</td>\n",
              "      <td>0</td>\n",
              "      <td>P</td>\n",
              "      <td>Vigente</td>\n",
              "      <td>NaN</td>\n",
              "    </tr>\n",
              "  </tbody>\n",
              "</table>\n",
              "<p>400 rows × 20 columns</p>\n",
              "</div>\n",
              "    <div class=\"colab-df-buttons\">\n",
              "\n",
              "  <div class=\"colab-df-container\">\n",
              "    <button class=\"colab-df-convert\" onclick=\"convertToInteractive('df-e011ccbf-49c2-4be4-a8fa-8d7921d6de43')\"\n",
              "            title=\"Convert this dataframe to an interactive table.\"\n",
              "            style=\"display:none;\">\n",
              "\n",
              "  <svg xmlns=\"http://www.w3.org/2000/svg\" height=\"24px\" viewBox=\"0 -960 960 960\">\n",
              "    <path d=\"M120-120v-720h720v720H120Zm60-500h600v-160H180v160Zm220 220h160v-160H400v160Zm0 220h160v-160H400v160ZM180-400h160v-160H180v160Zm440 0h160v-160H620v160ZM180-180h160v-160H180v160Zm440 0h160v-160H620v160Z\"/>\n",
              "  </svg>\n",
              "    </button>\n",
              "\n",
              "  <style>\n",
              "    .colab-df-container {\n",
              "      display:flex;\n",
              "      gap: 12px;\n",
              "    }\n",
              "\n",
              "    .colab-df-convert {\n",
              "      background-color: #E8F0FE;\n",
              "      border: none;\n",
              "      border-radius: 50%;\n",
              "      cursor: pointer;\n",
              "      display: none;\n",
              "      fill: #1967D2;\n",
              "      height: 32px;\n",
              "      padding: 0 0 0 0;\n",
              "      width: 32px;\n",
              "    }\n",
              "\n",
              "    .colab-df-convert:hover {\n",
              "      background-color: #E2EBFA;\n",
              "      box-shadow: 0px 1px 2px rgba(60, 64, 67, 0.3), 0px 1px 3px 1px rgba(60, 64, 67, 0.15);\n",
              "      fill: #174EA6;\n",
              "    }\n",
              "\n",
              "    .colab-df-buttons div {\n",
              "      margin-bottom: 4px;\n",
              "    }\n",
              "\n",
              "    [theme=dark] .colab-df-convert {\n",
              "      background-color: #3B4455;\n",
              "      fill: #D2E3FC;\n",
              "    }\n",
              "\n",
              "    [theme=dark] .colab-df-convert:hover {\n",
              "      background-color: #434B5C;\n",
              "      box-shadow: 0px 1px 3px 1px rgba(0, 0, 0, 0.15);\n",
              "      filter: drop-shadow(0px 1px 2px rgba(0, 0, 0, 0.3));\n",
              "      fill: #FFFFFF;\n",
              "    }\n",
              "  </style>\n",
              "\n",
              "    <script>\n",
              "      const buttonEl =\n",
              "        document.querySelector('#df-e011ccbf-49c2-4be4-a8fa-8d7921d6de43 button.colab-df-convert');\n",
              "      buttonEl.style.display =\n",
              "        google.colab.kernel.accessAllowed ? 'block' : 'none';\n",
              "\n",
              "      async function convertToInteractive(key) {\n",
              "        const element = document.querySelector('#df-e011ccbf-49c2-4be4-a8fa-8d7921d6de43');\n",
              "        const dataTable =\n",
              "          await google.colab.kernel.invokeFunction('convertToInteractive',\n",
              "                                                    [key], {});\n",
              "        if (!dataTable) return;\n",
              "\n",
              "        const docLinkHtml = 'Like what you see? Visit the ' +\n",
              "          '<a target=\"_blank\" href=https://colab.research.google.com/notebooks/data_table.ipynb>data table notebook</a>'\n",
              "          + ' to learn more about interactive tables.';\n",
              "        element.innerHTML = '';\n",
              "        dataTable['output_type'] = 'display_data';\n",
              "        await google.colab.output.renderOutput(dataTable, element);\n",
              "        const docLink = document.createElement('div');\n",
              "        docLink.innerHTML = docLinkHtml;\n",
              "        element.appendChild(docLink);\n",
              "      }\n",
              "    </script>\n",
              "  </div>\n",
              "\n",
              "\n",
              "<div id=\"df-2b8efefc-8d34-4aef-ab96-dc7fb6aedfdb\">\n",
              "  <button class=\"colab-df-quickchart\" onclick=\"quickchart('df-2b8efefc-8d34-4aef-ab96-dc7fb6aedfdb')\"\n",
              "            title=\"Suggest charts.\"\n",
              "            style=\"display:none;\">\n",
              "\n",
              "<svg xmlns=\"http://www.w3.org/2000/svg\" height=\"24px\"viewBox=\"0 0 24 24\"\n",
              "     width=\"24px\">\n",
              "    <g>\n",
              "        <path d=\"M19 3H5c-1.1 0-2 .9-2 2v14c0 1.1.9 2 2 2h14c1.1 0 2-.9 2-2V5c0-1.1-.9-2-2-2zM9 17H7v-7h2v7zm4 0h-2V7h2v10zm4 0h-2v-4h2v4z\"/>\n",
              "    </g>\n",
              "</svg>\n",
              "  </button>\n",
              "\n",
              "<style>\n",
              "  .colab-df-quickchart {\n",
              "      --bg-color: #E8F0FE;\n",
              "      --fill-color: #1967D2;\n",
              "      --hover-bg-color: #E2EBFA;\n",
              "      --hover-fill-color: #174EA6;\n",
              "      --disabled-fill-color: #AAA;\n",
              "      --disabled-bg-color: #DDD;\n",
              "  }\n",
              "\n",
              "  [theme=dark] .colab-df-quickchart {\n",
              "      --bg-color: #3B4455;\n",
              "      --fill-color: #D2E3FC;\n",
              "      --hover-bg-color: #434B5C;\n",
              "      --hover-fill-color: #FFFFFF;\n",
              "      --disabled-bg-color: #3B4455;\n",
              "      --disabled-fill-color: #666;\n",
              "  }\n",
              "\n",
              "  .colab-df-quickchart {\n",
              "    background-color: var(--bg-color);\n",
              "    border: none;\n",
              "    border-radius: 50%;\n",
              "    cursor: pointer;\n",
              "    display: none;\n",
              "    fill: var(--fill-color);\n",
              "    height: 32px;\n",
              "    padding: 0;\n",
              "    width: 32px;\n",
              "  }\n",
              "\n",
              "  .colab-df-quickchart:hover {\n",
              "    background-color: var(--hover-bg-color);\n",
              "    box-shadow: 0 1px 2px rgba(60, 64, 67, 0.3), 0 1px 3px 1px rgba(60, 64, 67, 0.15);\n",
              "    fill: var(--button-hover-fill-color);\n",
              "  }\n",
              "\n",
              "  .colab-df-quickchart-complete:disabled,\n",
              "  .colab-df-quickchart-complete:disabled:hover {\n",
              "    background-color: var(--disabled-bg-color);\n",
              "    fill: var(--disabled-fill-color);\n",
              "    box-shadow: none;\n",
              "  }\n",
              "\n",
              "  .colab-df-spinner {\n",
              "    border: 2px solid var(--fill-color);\n",
              "    border-color: transparent;\n",
              "    border-bottom-color: var(--fill-color);\n",
              "    animation:\n",
              "      spin 1s steps(1) infinite;\n",
              "  }\n",
              "\n",
              "  @keyframes spin {\n",
              "    0% {\n",
              "      border-color: transparent;\n",
              "      border-bottom-color: var(--fill-color);\n",
              "      border-left-color: var(--fill-color);\n",
              "    }\n",
              "    20% {\n",
              "      border-color: transparent;\n",
              "      border-left-color: var(--fill-color);\n",
              "      border-top-color: var(--fill-color);\n",
              "    }\n",
              "    30% {\n",
              "      border-color: transparent;\n",
              "      border-left-color: var(--fill-color);\n",
              "      border-top-color: var(--fill-color);\n",
              "      border-right-color: var(--fill-color);\n",
              "    }\n",
              "    40% {\n",
              "      border-color: transparent;\n",
              "      border-right-color: var(--fill-color);\n",
              "      border-top-color: var(--fill-color);\n",
              "    }\n",
              "    60% {\n",
              "      border-color: transparent;\n",
              "      border-right-color: var(--fill-color);\n",
              "    }\n",
              "    80% {\n",
              "      border-color: transparent;\n",
              "      border-right-color: var(--fill-color);\n",
              "      border-bottom-color: var(--fill-color);\n",
              "    }\n",
              "    90% {\n",
              "      border-color: transparent;\n",
              "      border-bottom-color: var(--fill-color);\n",
              "    }\n",
              "  }\n",
              "</style>\n",
              "\n",
              "  <script>\n",
              "    async function quickchart(key) {\n",
              "      const quickchartButtonEl =\n",
              "        document.querySelector('#' + key + ' button');\n",
              "      quickchartButtonEl.disabled = true;  // To prevent multiple clicks.\n",
              "      quickchartButtonEl.classList.add('colab-df-spinner');\n",
              "      try {\n",
              "        const charts = await google.colab.kernel.invokeFunction(\n",
              "            'suggestCharts', [key], {});\n",
              "      } catch (error) {\n",
              "        console.error('Error during call to suggestCharts:', error);\n",
              "      }\n",
              "      quickchartButtonEl.classList.remove('colab-df-spinner');\n",
              "      quickchartButtonEl.classList.add('colab-df-quickchart-complete');\n",
              "    }\n",
              "    (() => {\n",
              "      let quickchartButtonEl =\n",
              "        document.querySelector('#df-2b8efefc-8d34-4aef-ab96-dc7fb6aedfdb button');\n",
              "      quickchartButtonEl.style.display =\n",
              "        google.colab.kernel.accessAllowed ? 'block' : 'none';\n",
              "    })();\n",
              "  </script>\n",
              "</div>\n",
              "    </div>\n",
              "  </div>\n"
            ]
          },
          "metadata": {},
          "execution_count": 177
        }
      ]
    },
    {
      "cell_type": "code",
      "source": [
        "#Eliminamos las filas inncesarias, ya que las primeras 3 no contienen información\n",
        "df1 = pd.read_excel('/content/Gastos y costos 20-23.xlsx', sheet_name='2023', skiprows=3)\n",
        "df1\n",
        "#Convertir DataFrame a CSV\n",
        "df1.to_csv(\"archivo1.csv\")\n",
        "from google.colab import files\n",
        "files.download(\"archivo1.csv\")"
      ],
      "metadata": {
        "colab": {
          "base_uri": "https://localhost:8080/",
          "height": 17
        },
        "id": "T-oWIPbBngCK",
        "outputId": "42b3e11e-ccc2-4931-b463-47c5e3dec02b"
      },
      "execution_count": 178,
      "outputs": [
        {
          "output_type": "display_data",
          "data": {
            "text/plain": [
              "<IPython.core.display.Javascript object>"
            ],
            "application/javascript": [
              "\n",
              "    async function download(id, filename, size) {\n",
              "      if (!google.colab.kernel.accessAllowed) {\n",
              "        return;\n",
              "      }\n",
              "      const div = document.createElement('div');\n",
              "      const label = document.createElement('label');\n",
              "      label.textContent = `Downloading \"${filename}\": `;\n",
              "      div.appendChild(label);\n",
              "      const progress = document.createElement('progress');\n",
              "      progress.max = size;\n",
              "      div.appendChild(progress);\n",
              "      document.body.appendChild(div);\n",
              "\n",
              "      const buffers = [];\n",
              "      let downloaded = 0;\n",
              "\n",
              "      const channel = await google.colab.kernel.comms.open(id);\n",
              "      // Send a message to notify the kernel that we're ready.\n",
              "      channel.send({})\n",
              "\n",
              "      for await (const message of channel.messages) {\n",
              "        // Send a message to notify the kernel that we're ready.\n",
              "        channel.send({})\n",
              "        if (message.buffers) {\n",
              "          for (const buffer of message.buffers) {\n",
              "            buffers.push(buffer);\n",
              "            downloaded += buffer.byteLength;\n",
              "            progress.value = downloaded;\n",
              "          }\n",
              "        }\n",
              "      }\n",
              "      const blob = new Blob(buffers, {type: 'application/binary'});\n",
              "      const a = document.createElement('a');\n",
              "      a.href = window.URL.createObjectURL(blob);\n",
              "      a.download = filename;\n",
              "      div.appendChild(a);\n",
              "      a.click();\n",
              "      div.remove();\n",
              "    }\n",
              "  "
            ]
          },
          "metadata": {}
        },
        {
          "output_type": "display_data",
          "data": {
            "text/plain": [
              "<IPython.core.display.Javascript object>"
            ],
            "application/javascript": [
              "download(\"download_825b7e0f-9230-4580-a94a-385af72712d4\", \"archivo1.csv\", 85965)"
            ]
          },
          "metadata": {}
        }
      ]
    },
    {
      "cell_type": "code",
      "source": [
        "# Encontramos que tenemos un total de 397 registros y 20 columnas\n",
        "df1.shape"
      ],
      "metadata": {
        "colab": {
          "base_uri": "https://localhost:8080/"
        },
        "id": "sLKM74ncpHOL",
        "outputId": "774ffec6-af57-4f1a-a326-94f17aabee78"
      },
      "execution_count": 179,
      "outputs": [
        {
          "output_type": "execute_result",
          "data": {
            "text/plain": [
              "(397, 20)"
            ]
          },
          "metadata": {},
          "execution_count": 179
        }
      ]
    },
    {
      "cell_type": "code",
      "source": [
        "# Contanmos el total de nulos por columna\n",
        "df1.isnull().sum()"
      ],
      "metadata": {
        "colab": {
          "base_uri": "https://localhost:8080/"
        },
        "id": "QuRp9bSco8vn",
        "outputId": "0aff782c-918a-4d96-adbe-e22ec96b66a3"
      },
      "execution_count": 180,
      "outputs": [
        {
          "output_type": "execute_result",
          "data": {
            "text/plain": [
              "Fecha            0\n",
              "Folio           13\n",
              "UUID             0\n",
              "RFC              0\n",
              "Proveedor        0\n",
              "TIPO GASTO       8\n",
              "Descripción      0\n",
              "MP              71\n",
              "FP              71\n",
              "TC               0\n",
              "Importe          0\n",
              "IVA              0\n",
              "RET ISR          0\n",
              "RET IVA          0\n",
              "Otros          397\n",
              "TOTAL MX         0\n",
              "TOTAL SAT        0\n",
              "Tipo             0\n",
              "Status           0\n",
              "Poliza         115\n",
              "dtype: int64"
            ]
          },
          "metadata": {},
          "execution_count": 180
        }
      ]
    },
    {
      "cell_type": "code",
      "source": [
        "# Encontramos que la columna otros esta totalmente vacia, por lo que la eliminamos\n",
        "df1.drop('Otros', axis=1, inplace=True)\n",
        "# Corroboramos que se haya eliminado\n",
        "df1.isnull().sum()\n",
        "#Convertir DataFrame a CSV\n",
        "df1.to_csv(\"archivo2.csv\")\n",
        "from google.colab import files\n",
        "files.download(\"archivo2.csv\")"
      ],
      "metadata": {
        "colab": {
          "base_uri": "https://localhost:8080/",
          "height": 17
        },
        "id": "buZxK-5RpP4C",
        "outputId": "f1ff3af5-064e-4a30-c69b-5167d62c8d5c"
      },
      "execution_count": 181,
      "outputs": [
        {
          "output_type": "display_data",
          "data": {
            "text/plain": [
              "<IPython.core.display.Javascript object>"
            ],
            "application/javascript": [
              "\n",
              "    async function download(id, filename, size) {\n",
              "      if (!google.colab.kernel.accessAllowed) {\n",
              "        return;\n",
              "      }\n",
              "      const div = document.createElement('div');\n",
              "      const label = document.createElement('label');\n",
              "      label.textContent = `Downloading \"${filename}\": `;\n",
              "      div.appendChild(label);\n",
              "      const progress = document.createElement('progress');\n",
              "      progress.max = size;\n",
              "      div.appendChild(progress);\n",
              "      document.body.appendChild(div);\n",
              "\n",
              "      const buffers = [];\n",
              "      let downloaded = 0;\n",
              "\n",
              "      const channel = await google.colab.kernel.comms.open(id);\n",
              "      // Send a message to notify the kernel that we're ready.\n",
              "      channel.send({})\n",
              "\n",
              "      for await (const message of channel.messages) {\n",
              "        // Send a message to notify the kernel that we're ready.\n",
              "        channel.send({})\n",
              "        if (message.buffers) {\n",
              "          for (const buffer of message.buffers) {\n",
              "            buffers.push(buffer);\n",
              "            downloaded += buffer.byteLength;\n",
              "            progress.value = downloaded;\n",
              "          }\n",
              "        }\n",
              "      }\n",
              "      const blob = new Blob(buffers, {type: 'application/binary'});\n",
              "      const a = document.createElement('a');\n",
              "      a.href = window.URL.createObjectURL(blob);\n",
              "      a.download = filename;\n",
              "      div.appendChild(a);\n",
              "      a.click();\n",
              "      div.remove();\n",
              "    }\n",
              "  "
            ]
          },
          "metadata": {}
        },
        {
          "output_type": "display_data",
          "data": {
            "text/plain": [
              "<IPython.core.display.Javascript object>"
            ],
            "application/javascript": [
              "download(\"download_870363d5-6417-4b3d-b7d3-f07c25b42b9b\", \"archivo2.csv\", 85562)"
            ]
          },
          "metadata": {}
        }
      ]
    },
    {
      "cell_type": "code",
      "source": [
        "# En la columna folio hemos sustituido los valores nulos por los valores no nulos\n",
        "# hacia delante \"Foward fill\"\n",
        "df1[\"Folio\"] = df1[\"Folio\"].fillna(method=\"ffill\")\n",
        "#Convertir DataFrame a CSV\n",
        "df1.to_csv(\"archivo3.csv\")\n",
        "from google.colab import files\n",
        "files.download(\"archivo3.csv\")"
      ],
      "metadata": {
        "colab": {
          "base_uri": "https://localhost:8080/",
          "height": 17
        },
        "id": "0ajTVfdj3XL_",
        "outputId": "1454ce20-b89e-4131-a940-7fd588eead43"
      },
      "execution_count": 182,
      "outputs": [
        {
          "output_type": "display_data",
          "data": {
            "text/plain": [
              "<IPython.core.display.Javascript object>"
            ],
            "application/javascript": [
              "\n",
              "    async function download(id, filename, size) {\n",
              "      if (!google.colab.kernel.accessAllowed) {\n",
              "        return;\n",
              "      }\n",
              "      const div = document.createElement('div');\n",
              "      const label = document.createElement('label');\n",
              "      label.textContent = `Downloading \"${filename}\": `;\n",
              "      div.appendChild(label);\n",
              "      const progress = document.createElement('progress');\n",
              "      progress.max = size;\n",
              "      div.appendChild(progress);\n",
              "      document.body.appendChild(div);\n",
              "\n",
              "      const buffers = [];\n",
              "      let downloaded = 0;\n",
              "\n",
              "      const channel = await google.colab.kernel.comms.open(id);\n",
              "      // Send a message to notify the kernel that we're ready.\n",
              "      channel.send({})\n",
              "\n",
              "      for await (const message of channel.messages) {\n",
              "        // Send a message to notify the kernel that we're ready.\n",
              "        channel.send({})\n",
              "        if (message.buffers) {\n",
              "          for (const buffer of message.buffers) {\n",
              "            buffers.push(buffer);\n",
              "            downloaded += buffer.byteLength;\n",
              "            progress.value = downloaded;\n",
              "          }\n",
              "        }\n",
              "      }\n",
              "      const blob = new Blob(buffers, {type: 'application/binary'});\n",
              "      const a = document.createElement('a');\n",
              "      a.href = window.URL.createObjectURL(blob);\n",
              "      a.download = filename;\n",
              "      div.appendChild(a);\n",
              "      a.click();\n",
              "      div.remove();\n",
              "    }\n",
              "  "
            ]
          },
          "metadata": {}
        },
        {
          "output_type": "display_data",
          "data": {
            "text/plain": [
              "<IPython.core.display.Javascript object>"
            ],
            "application/javascript": [
              "download(\"download_cec182b0-77c7-4f48-a0c4-211cf9cb88a1\", \"archivo3.csv\", 85631)"
            ]
          },
          "metadata": {}
        }
      ]
    },
    {
      "cell_type": "code",
      "source": [
        "# corroboramos 0 nulos en columna folio\n",
        "df1.isnull().sum()"
      ],
      "metadata": {
        "colab": {
          "base_uri": "https://localhost:8080/"
        },
        "id": "WIu7RKYy3qdF",
        "outputId": "bf11e8fb-fbe3-4d0a-8a1b-1048ee86583c"
      },
      "execution_count": 183,
      "outputs": [
        {
          "output_type": "execute_result",
          "data": {
            "text/plain": [
              "Fecha            0\n",
              "Folio            0\n",
              "UUID             0\n",
              "RFC              0\n",
              "Proveedor        0\n",
              "TIPO GASTO       8\n",
              "Descripción      0\n",
              "MP              71\n",
              "FP              71\n",
              "TC               0\n",
              "Importe          0\n",
              "IVA              0\n",
              "RET ISR          0\n",
              "RET IVA          0\n",
              "TOTAL MX         0\n",
              "TOTAL SAT        0\n",
              "Tipo             0\n",
              "Status           0\n",
              "Poliza         115\n",
              "dtype: int64"
            ]
          },
          "metadata": {},
          "execution_count": 183
        }
      ]
    },
    {
      "cell_type": "code",
      "source": [
        "# Al ser categorica, buscamos la moda con value_counts() en la columna MP\n",
        "df1['MP'].value_counts()"
      ],
      "metadata": {
        "colab": {
          "base_uri": "https://localhost:8080/"
        },
        "id": "UPHu08vopmi4",
        "outputId": "7cc9c62a-db02-4a91-bdd0-d6a37cbe9416"
      },
      "execution_count": 184,
      "outputs": [
        {
          "output_type": "execute_result",
          "data": {
            "text/plain": [
              "PUE    191\n",
              "PPD    135\n",
              "Name: MP, dtype: int64"
            ]
          },
          "metadata": {},
          "execution_count": 184
        }
      ]
    },
    {
      "cell_type": "code",
      "source": [
        "# Sustituimos los valores nulos con la moda, en este caso por \"PUE\"\n",
        "df1[\"MP\"] = df1[\"MP\"].fillna(\"PUE\")\n",
        "#Convertir DataFrame a CSV\n",
        "df1.to_csv(\"archivo4.csv\")\n",
        "from google.colab import files\n",
        "files.download(\"archivo4.csv\")"
      ],
      "metadata": {
        "colab": {
          "base_uri": "https://localhost:8080/",
          "height": 17
        },
        "id": "fGj8yQRV2iwS",
        "outputId": "e0936d9f-5605-4986-94f0-eb29df6d8cec"
      },
      "execution_count": 185,
      "outputs": [
        {
          "output_type": "display_data",
          "data": {
            "text/plain": [
              "<IPython.core.display.Javascript object>"
            ],
            "application/javascript": [
              "\n",
              "    async function download(id, filename, size) {\n",
              "      if (!google.colab.kernel.accessAllowed) {\n",
              "        return;\n",
              "      }\n",
              "      const div = document.createElement('div');\n",
              "      const label = document.createElement('label');\n",
              "      label.textContent = `Downloading \"${filename}\": `;\n",
              "      div.appendChild(label);\n",
              "      const progress = document.createElement('progress');\n",
              "      progress.max = size;\n",
              "      div.appendChild(progress);\n",
              "      document.body.appendChild(div);\n",
              "\n",
              "      const buffers = [];\n",
              "      let downloaded = 0;\n",
              "\n",
              "      const channel = await google.colab.kernel.comms.open(id);\n",
              "      // Send a message to notify the kernel that we're ready.\n",
              "      channel.send({})\n",
              "\n",
              "      for await (const message of channel.messages) {\n",
              "        // Send a message to notify the kernel that we're ready.\n",
              "        channel.send({})\n",
              "        if (message.buffers) {\n",
              "          for (const buffer of message.buffers) {\n",
              "            buffers.push(buffer);\n",
              "            downloaded += buffer.byteLength;\n",
              "            progress.value = downloaded;\n",
              "          }\n",
              "        }\n",
              "      }\n",
              "      const blob = new Blob(buffers, {type: 'application/binary'});\n",
              "      const a = document.createElement('a');\n",
              "      a.href = window.URL.createObjectURL(blob);\n",
              "      a.download = filename;\n",
              "      div.appendChild(a);\n",
              "      a.click();\n",
              "      div.remove();\n",
              "    }\n",
              "  "
            ]
          },
          "metadata": {}
        },
        {
          "output_type": "display_data",
          "data": {
            "text/plain": [
              "<IPython.core.display.Javascript object>"
            ],
            "application/javascript": [
              "download(\"download_68b44899-52d4-4642-a053-11997ed8c8eb\", \"archivo4.csv\", 85844)"
            ]
          },
          "metadata": {}
        }
      ]
    },
    {
      "cell_type": "code",
      "source": [
        "#Corroboramos no nulos en la columna MP\n",
        "df1.isnull().sum()"
      ],
      "metadata": {
        "colab": {
          "base_uri": "https://localhost:8080/"
        },
        "id": "2BpK-MmTsjiL",
        "outputId": "66a1e9f8-0567-4a73-d427-0d8476761c75"
      },
      "execution_count": 186,
      "outputs": [
        {
          "output_type": "execute_result",
          "data": {
            "text/plain": [
              "Fecha            0\n",
              "Folio            0\n",
              "UUID             0\n",
              "RFC              0\n",
              "Proveedor        0\n",
              "TIPO GASTO       8\n",
              "Descripción      0\n",
              "MP               0\n",
              "FP              71\n",
              "TC               0\n",
              "Importe          0\n",
              "IVA              0\n",
              "RET ISR          0\n",
              "RET IVA          0\n",
              "TOTAL MX         0\n",
              "TOTAL SAT        0\n",
              "Tipo             0\n",
              "Status           0\n",
              "Poliza         115\n",
              "dtype: int64"
            ]
          },
          "metadata": {},
          "execution_count": 186
        }
      ]
    },
    {
      "cell_type": "code",
      "source": [
        "# Al ser pocos datos, los cuales se repiten demasiado, hemos optado por buscar\n",
        "#la moda nuevamente\n",
        "df1['FP'].value_counts()"
      ],
      "metadata": {
        "colab": {
          "base_uri": "https://localhost:8080/"
        },
        "id": "Z9P_ugUa0399",
        "outputId": "4a9a86bf-b62f-4f71-d508-5de1e179cc1a"
      },
      "execution_count": 187,
      "outputs": [
        {
          "output_type": "execute_result",
          "data": {
            "text/plain": [
              "99.0    139\n",
              "3.0     104\n",
              "1.0      62\n",
              "4.0      14\n",
              "28.0      4\n",
              "5.0       2\n",
              "31.0      1\n",
              "Name: FP, dtype: int64"
            ]
          },
          "metadata": {},
          "execution_count": 187
        }
      ]
    },
    {
      "cell_type": "code",
      "source": [
        "# Sustituimos todos los valores nulos en la columna FP por 99\n",
        "df1[\"FP\"] = df1[\"FP\"].fillna(99)\n",
        "#Convertir DataFrame a CSV\n",
        "df1.to_csv(\"archivo5.csv\")\n",
        "from google.colab import files\n",
        "files.download(\"archivo5.csv\")"
      ],
      "metadata": {
        "colab": {
          "base_uri": "https://localhost:8080/",
          "height": 17
        },
        "id": "FUIcOpeH3GSo",
        "outputId": "7b1b1640-c953-44f4-9618-cb019f416623"
      },
      "execution_count": 188,
      "outputs": [
        {
          "output_type": "display_data",
          "data": {
            "text/plain": [
              "<IPython.core.display.Javascript object>"
            ],
            "application/javascript": [
              "\n",
              "    async function download(id, filename, size) {\n",
              "      if (!google.colab.kernel.accessAllowed) {\n",
              "        return;\n",
              "      }\n",
              "      const div = document.createElement('div');\n",
              "      const label = document.createElement('label');\n",
              "      label.textContent = `Downloading \"${filename}\": `;\n",
              "      div.appendChild(label);\n",
              "      const progress = document.createElement('progress');\n",
              "      progress.max = size;\n",
              "      div.appendChild(progress);\n",
              "      document.body.appendChild(div);\n",
              "\n",
              "      const buffers = [];\n",
              "      let downloaded = 0;\n",
              "\n",
              "      const channel = await google.colab.kernel.comms.open(id);\n",
              "      // Send a message to notify the kernel that we're ready.\n",
              "      channel.send({})\n",
              "\n",
              "      for await (const message of channel.messages) {\n",
              "        // Send a message to notify the kernel that we're ready.\n",
              "        channel.send({})\n",
              "        if (message.buffers) {\n",
              "          for (const buffer of message.buffers) {\n",
              "            buffers.push(buffer);\n",
              "            downloaded += buffer.byteLength;\n",
              "            progress.value = downloaded;\n",
              "          }\n",
              "        }\n",
              "      }\n",
              "      const blob = new Blob(buffers, {type: 'application/binary'});\n",
              "      const a = document.createElement('a');\n",
              "      a.href = window.URL.createObjectURL(blob);\n",
              "      a.download = filename;\n",
              "      div.appendChild(a);\n",
              "      a.click();\n",
              "      div.remove();\n",
              "    }\n",
              "  "
            ]
          },
          "metadata": {}
        },
        {
          "output_type": "display_data",
          "data": {
            "text/plain": [
              "<IPython.core.display.Javascript object>"
            ],
            "application/javascript": [
              "download(\"download_ff5ff9f7-f18f-4932-90d1-3ab4dfe813c8\", \"archivo5.csv\", 86128)"
            ]
          },
          "metadata": {}
        }
      ]
    },
    {
      "cell_type": "code",
      "source": [
        "#Corroboramos no nulos en la columna FP\n",
        "df1.isnull().sum()"
      ],
      "metadata": {
        "colab": {
          "base_uri": "https://localhost:8080/"
        },
        "id": "kdQzCKVa2D3d",
        "outputId": "91b22fdc-bda0-41c2-8c9f-67798a1f74a2"
      },
      "execution_count": 189,
      "outputs": [
        {
          "output_type": "execute_result",
          "data": {
            "text/plain": [
              "Fecha            0\n",
              "Folio            0\n",
              "UUID             0\n",
              "RFC              0\n",
              "Proveedor        0\n",
              "TIPO GASTO       8\n",
              "Descripción      0\n",
              "MP               0\n",
              "FP               0\n",
              "TC               0\n",
              "Importe          0\n",
              "IVA              0\n",
              "RET ISR          0\n",
              "RET IVA          0\n",
              "TOTAL MX         0\n",
              "TOTAL SAT        0\n",
              "Tipo             0\n",
              "Status           0\n",
              "Poliza         115\n",
              "dtype: int64"
            ]
          },
          "metadata": {},
          "execution_count": 189
        }
      ]
    },
    {
      "cell_type": "code",
      "source": [
        "# Sustiuimos los no nulos de la columna Poliza con los datos hacia delante\n",
        "df1[\"Poliza\"] = df1[\"Poliza\"].fillna(method=\"ffill\")\n",
        "#Convertir DataFrame a CSV\n",
        "df1.to_csv(\"archivo6.csv\")\n",
        "from google.colab import files\n",
        "files.download(\"archivo6.csv\")"
      ],
      "metadata": {
        "colab": {
          "base_uri": "https://localhost:8080/",
          "height": 17
        },
        "id": "Dw70Cb_C4Cqc",
        "outputId": "33d0aa04-0828-4d72-9dfc-f8b9efaeea35"
      },
      "execution_count": 190,
      "outputs": [
        {
          "output_type": "display_data",
          "data": {
            "text/plain": [
              "<IPython.core.display.Javascript object>"
            ],
            "application/javascript": [
              "\n",
              "    async function download(id, filename, size) {\n",
              "      if (!google.colab.kernel.accessAllowed) {\n",
              "        return;\n",
              "      }\n",
              "      const div = document.createElement('div');\n",
              "      const label = document.createElement('label');\n",
              "      label.textContent = `Downloading \"${filename}\": `;\n",
              "      div.appendChild(label);\n",
              "      const progress = document.createElement('progress');\n",
              "      progress.max = size;\n",
              "      div.appendChild(progress);\n",
              "      document.body.appendChild(div);\n",
              "\n",
              "      const buffers = [];\n",
              "      let downloaded = 0;\n",
              "\n",
              "      const channel = await google.colab.kernel.comms.open(id);\n",
              "      // Send a message to notify the kernel that we're ready.\n",
              "      channel.send({})\n",
              "\n",
              "      for await (const message of channel.messages) {\n",
              "        // Send a message to notify the kernel that we're ready.\n",
              "        channel.send({})\n",
              "        if (message.buffers) {\n",
              "          for (const buffer of message.buffers) {\n",
              "            buffers.push(buffer);\n",
              "            downloaded += buffer.byteLength;\n",
              "            progress.value = downloaded;\n",
              "          }\n",
              "        }\n",
              "      }\n",
              "      const blob = new Blob(buffers, {type: 'application/binary'});\n",
              "      const a = document.createElement('a');\n",
              "      a.href = window.URL.createObjectURL(blob);\n",
              "      a.download = filename;\n",
              "      div.appendChild(a);\n",
              "      a.click();\n",
              "      div.remove();\n",
              "    }\n",
              "  "
            ]
          },
          "metadata": {}
        },
        {
          "output_type": "display_data",
          "data": {
            "text/plain": [
              "<IPython.core.display.Javascript object>"
            ],
            "application/javascript": [
              "download(\"download_a815374e-1601-4c01-985f-aa74b1f9db30\", \"archivo6.csv\", 87331)"
            ]
          },
          "metadata": {}
        }
      ]
    },
    {
      "cell_type": "code",
      "source": [
        "#Corroboramos que no existan nulos en poliza\n",
        "# En este caso existen todavia 2 nulos\n",
        "df1.isnull().sum()"
      ],
      "metadata": {
        "colab": {
          "base_uri": "https://localhost:8080/"
        },
        "id": "HQLqTVWy2Esk",
        "outputId": "8a7978bf-a9f0-483d-9c81-7b0fc8f7ebce"
      },
      "execution_count": 191,
      "outputs": [
        {
          "output_type": "execute_result",
          "data": {
            "text/plain": [
              "Fecha          0\n",
              "Folio          0\n",
              "UUID           0\n",
              "RFC            0\n",
              "Proveedor      0\n",
              "TIPO GASTO     8\n",
              "Descripción    0\n",
              "MP             0\n",
              "FP             0\n",
              "TC             0\n",
              "Importe        0\n",
              "IVA            0\n",
              "RET ISR        0\n",
              "RET IVA        0\n",
              "TOTAL MX       0\n",
              "TOTAL SAT      0\n",
              "Tipo           0\n",
              "Status         0\n",
              "Poliza         2\n",
              "dtype: int64"
            ]
          },
          "metadata": {},
          "execution_count": 191
        }
      ]
    },
    {
      "cell_type": "code",
      "source": [
        "# Llenamos los 2 registros faltantes colos datos hacia atras con\n",
        "# backward fill\n",
        "df1[\"Poliza\"] = df1[\"Poliza\"].fillna(method=\"bfill\")\n",
        "#Convertir DataFrame a CSV\n",
        "df1.to_csv(\"archivo7.csv\")\n",
        "from google.colab import files\n",
        "files.download(\"archivo7.csv\")"
      ],
      "metadata": {
        "colab": {
          "base_uri": "https://localhost:8080/",
          "height": 17
        },
        "id": "3FFPt-Va4dEw",
        "outputId": "7a0b568b-d6b9-4070-ffc7-1f6820d399e8"
      },
      "execution_count": 192,
      "outputs": [
        {
          "output_type": "display_data",
          "data": {
            "text/plain": [
              "<IPython.core.display.Javascript object>"
            ],
            "application/javascript": [
              "\n",
              "    async function download(id, filename, size) {\n",
              "      if (!google.colab.kernel.accessAllowed) {\n",
              "        return;\n",
              "      }\n",
              "      const div = document.createElement('div');\n",
              "      const label = document.createElement('label');\n",
              "      label.textContent = `Downloading \"${filename}\": `;\n",
              "      div.appendChild(label);\n",
              "      const progress = document.createElement('progress');\n",
              "      progress.max = size;\n",
              "      div.appendChild(progress);\n",
              "      document.body.appendChild(div);\n",
              "\n",
              "      const buffers = [];\n",
              "      let downloaded = 0;\n",
              "\n",
              "      const channel = await google.colab.kernel.comms.open(id);\n",
              "      // Send a message to notify the kernel that we're ready.\n",
              "      channel.send({})\n",
              "\n",
              "      for await (const message of channel.messages) {\n",
              "        // Send a message to notify the kernel that we're ready.\n",
              "        channel.send({})\n",
              "        if (message.buffers) {\n",
              "          for (const buffer of message.buffers) {\n",
              "            buffers.push(buffer);\n",
              "            downloaded += buffer.byteLength;\n",
              "            progress.value = downloaded;\n",
              "          }\n",
              "        }\n",
              "      }\n",
              "      const blob = new Blob(buffers, {type: 'application/binary'});\n",
              "      const a = document.createElement('a');\n",
              "      a.href = window.URL.createObjectURL(blob);\n",
              "      a.download = filename;\n",
              "      div.appendChild(a);\n",
              "      a.click();\n",
              "      div.remove();\n",
              "    }\n",
              "  "
            ]
          },
          "metadata": {}
        },
        {
          "output_type": "display_data",
          "data": {
            "text/plain": [
              "<IPython.core.display.Javascript object>"
            ],
            "application/javascript": [
              "download(\"download_059cb8e7-22f4-4e4f-92de-c8e5c8aeda16\", \"archivo7.csv\", 87351)"
            ]
          },
          "metadata": {}
        }
      ]
    },
    {
      "cell_type": "code",
      "source": [
        "# Volvemos a analizar que no existan nulos en la columna poliza\n",
        "df1.isnull().sum()"
      ],
      "metadata": {
        "colab": {
          "base_uri": "https://localhost:8080/"
        },
        "id": "zkBTjmsB4fWu",
        "outputId": "118a838e-5c03-4356-c5c5-a379a717da2e"
      },
      "execution_count": 193,
      "outputs": [
        {
          "output_type": "execute_result",
          "data": {
            "text/plain": [
              "Fecha          0\n",
              "Folio          0\n",
              "UUID           0\n",
              "RFC            0\n",
              "Proveedor      0\n",
              "TIPO GASTO     8\n",
              "Descripción    0\n",
              "MP             0\n",
              "FP             0\n",
              "TC             0\n",
              "Importe        0\n",
              "IVA            0\n",
              "RET ISR        0\n",
              "RET IVA        0\n",
              "TOTAL MX       0\n",
              "TOTAL SAT      0\n",
              "Tipo           0\n",
              "Status         0\n",
              "Poliza         0\n",
              "dtype: int64"
            ]
          },
          "metadata": {},
          "execution_count": 193
        }
      ]
    },
    {
      "cell_type": "code",
      "source": [
        "# Al ser la columna Tipo gasto categorica, buscamos la moda en la columna\n",
        "df1['TIPO GASTO'].value_counts()"
      ],
      "metadata": {
        "colab": {
          "base_uri": "https://localhost:8080/"
        },
        "id": "rkD69SeN4hBQ",
        "outputId": "03b1123c-a3cf-45b4-ea96-306a139dcf66"
      },
      "execution_count": 194,
      "outputs": [
        {
          "output_type": "execute_result",
          "data": {
            "text/plain": [
              "COMPRAS                     189\n",
              "MTTO COMPUTO                 20\n",
              "PAQUETERIA                   18\n",
              "COMPRAS                      16\n",
              "COMISION BANCARIA            16\n",
              "ARRENDAMIENTO FINANCIERO     12\n",
              "NO DEDUCIBLE                 12\n",
              "TELEFONO                     10\n",
              "CAPACITACION                  9\n",
              "COMISION MIXTA                9\n",
              "HONORARIOS PM                 9\n",
              "ALIMENTOS                     8\n",
              "GASOLINA                      5\n",
              "MTTO LOCAL                    5\n",
              "MENSAJERIA                    4\n",
              "VARIOS                        4\n",
              "GERENCIA ADMON                4\n",
              "DERECHOS                      4\n",
              "MONITOREO CAMARAS ADT         4\n",
              "VALES DESPENSA                3\n",
              "SEGUROS                       3\n",
              "RENTA COPIADORA               3\n",
              "SUSCRIPCIONES                 3\n",
              "CREDITO                       2\n",
              "SUELDOS DIRECCION             2\n",
              "MTTO TRANSPORTE               2\n",
              "HONORARIOS CONTABLES          2\n",
              "UNIFORMES                     2\n",
              "MAQUINARIA                    1\n",
              "PAPELERIA                     1\n",
              "IMSS/INFONAVIT                1\n",
              "MTTO MAQUINARIA               1\n",
              "PUBLICIDAD                    1\n",
              "MTTO OFICINA                  1\n",
              "MTT OFICINA                   1\n",
              "RENTA AUTO                    1\n",
              "FLETES                        1\n",
              "Name: TIPO GASTO, dtype: int64"
            ]
          },
          "metadata": {},
          "execution_count": 194
        }
      ]
    },
    {
      "cell_type": "code",
      "source": [
        "#Sustituimos los datos faltantes con COMPRAS, ya que es la moda en la columna\n",
        "df1[\"TIPO GASTO\"] = df1[\"TIPO GASTO\"].fillna('COMPRAS')\n",
        "#Convertir DataFrame a CSV\n",
        "df1.to_csv(\"archivo8.csv\")\n",
        "from google.colab import files\n",
        "files.download(\"archivo8.csv\")"
      ],
      "metadata": {
        "colab": {
          "base_uri": "https://localhost:8080/",
          "height": 17
        },
        "id": "r0F2EdLX4r39",
        "outputId": "b02da3f6-2963-44f5-9f4c-e4cf668b5ce2"
      },
      "execution_count": 195,
      "outputs": [
        {
          "output_type": "display_data",
          "data": {
            "text/plain": [
              "<IPython.core.display.Javascript object>"
            ],
            "application/javascript": [
              "\n",
              "    async function download(id, filename, size) {\n",
              "      if (!google.colab.kernel.accessAllowed) {\n",
              "        return;\n",
              "      }\n",
              "      const div = document.createElement('div');\n",
              "      const label = document.createElement('label');\n",
              "      label.textContent = `Downloading \"${filename}\": `;\n",
              "      div.appendChild(label);\n",
              "      const progress = document.createElement('progress');\n",
              "      progress.max = size;\n",
              "      div.appendChild(progress);\n",
              "      document.body.appendChild(div);\n",
              "\n",
              "      const buffers = [];\n",
              "      let downloaded = 0;\n",
              "\n",
              "      const channel = await google.colab.kernel.comms.open(id);\n",
              "      // Send a message to notify the kernel that we're ready.\n",
              "      channel.send({})\n",
              "\n",
              "      for await (const message of channel.messages) {\n",
              "        // Send a message to notify the kernel that we're ready.\n",
              "        channel.send({})\n",
              "        if (message.buffers) {\n",
              "          for (const buffer of message.buffers) {\n",
              "            buffers.push(buffer);\n",
              "            downloaded += buffer.byteLength;\n",
              "            progress.value = downloaded;\n",
              "          }\n",
              "        }\n",
              "      }\n",
              "      const blob = new Blob(buffers, {type: 'application/binary'});\n",
              "      const a = document.createElement('a');\n",
              "      a.href = window.URL.createObjectURL(blob);\n",
              "      a.download = filename;\n",
              "      div.appendChild(a);\n",
              "      a.click();\n",
              "      div.remove();\n",
              "    }\n",
              "  "
            ]
          },
          "metadata": {}
        },
        {
          "output_type": "display_data",
          "data": {
            "text/plain": [
              "<IPython.core.display.Javascript object>"
            ],
            "application/javascript": [
              "download(\"download_c2ce9967-6d10-4806-ac35-0f42d32ebb67\", \"archivo8.csv\", 87407)"
            ]
          },
          "metadata": {}
        }
      ]
    },
    {
      "cell_type": "code",
      "source": [
        "#Analizamos que no exista ningun nulo mas en el df\n",
        "df1.isnull().sum()"
      ],
      "metadata": {
        "colab": {
          "base_uri": "https://localhost:8080/"
        },
        "id": "XplBgecn408d",
        "outputId": "43499cc6-ecd9-4c76-b869-5a1312c39afd"
      },
      "execution_count": 196,
      "outputs": [
        {
          "output_type": "execute_result",
          "data": {
            "text/plain": [
              "Fecha          0\n",
              "Folio          0\n",
              "UUID           0\n",
              "RFC            0\n",
              "Proveedor      0\n",
              "TIPO GASTO     0\n",
              "Descripción    0\n",
              "MP             0\n",
              "FP             0\n",
              "TC             0\n",
              "Importe        0\n",
              "IVA            0\n",
              "RET ISR        0\n",
              "RET IVA        0\n",
              "TOTAL MX       0\n",
              "TOTAL SAT      0\n",
              "Tipo           0\n",
              "Status         0\n",
              "Poliza         0\n",
              "dtype: int64"
            ]
          },
          "metadata": {},
          "execution_count": 196
        }
      ]
    },
    {
      "cell_type": "code",
      "source": [
        "#Realizamos diagrama de caja\n",
        "import matplotlib.pyplot as plt\n",
        "fig = plt.figure(figsize =(15, 8))\n",
        "df1.plot(kind='box', vert=False)\n",
        "plt.title(\"Valores Atípicos\")\n",
        "plt.show()"
      ],
      "metadata": {
        "colab": {
          "base_uri": "https://localhost:8080/",
          "height": 470
        },
        "id": "Rlo13Ls0-JBF",
        "outputId": "72836369-46b5-4e3b-8326-89364ea403ba"
      },
      "execution_count": 197,
      "outputs": [
        {
          "output_type": "display_data",
          "data": {
            "text/plain": [
              "<Figure size 1500x800 with 0 Axes>"
            ]
          },
          "metadata": {}
        },
        {
          "output_type": "display_data",
          "data": {
            "text/plain": [
              "<Figure size 640x480 with 1 Axes>"
            ],
            "image/png": "[encoded data removed]"
          },
          "metadata": {}
        }
      ]
    },
    {
      "cell_type": "code",
      "source": [
        "# LIMITES DE TOTAL SAT\n",
        "Limite_Superior_TOTAL_SAT = df1['TOTAL SAT'].mean() + 3 * df1['TOTAL SAT'].std()\n",
        "Limite_Inferior_TOTAL_SAT = df1['TOTAL SAT'].mean() - 3 * df1['TOTAL SAT'].std()\n",
        "# LIMITES DE TOTAL MX\n",
        "Limite_Superior_TOTAL_MX = df1['TOTAL MX'].mean() + 3 * df1['TOTAL MX'].std()\n",
        "Limite_Inferior_TOTAL_MX = df1['TOTAL MX'].mean() - 3 * df1['TOTAL MX'].std()\n",
        "# LIMITES DE RET IVA\n",
        "Limite_Superior_RET_IVA = df1['RET IVA'].mean() + 3 * df1['RET IVA'].std()\n",
        "Limite_Inferior_RET_IVA = df1['RET IVA'].mean() - 3 * df1['RET IVA'].std()\n",
        "# LIMITES DE RET ISR\n",
        "Limite_Superior_RET_ISR = df1['RET ISR'].mean() + 3 * df1['RET ISR'].std()\n",
        "Limite_Inferior_RET_ISR = df1['RET ISR'].mean() - 3 * df1['RET ISR'].std()"
      ],
      "metadata": {
        "id": "IGxv9a_293wD"
      },
      "execution_count": 198,
      "outputs": []
    },
    {
      "cell_type": "code",
      "source": [
        "df1['TOTAL SAT'] = df1['TOTAL SAT'].apply(lambda x: x if (Limite_Inferior_TOTAL_SAT <= x) & (x <= Limite_Superior_TOTAL_SAT) else None)\n",
        "df1['TOTAL MX'] = df1['TOTAL MX'].apply(lambda x: x if (Limite_Inferior_TOTAL_MX <= x) & (x <= Limite_Superior_TOTAL_MX) else None)\n",
        "df1['RET IVA'] = df1['RET IVA'].apply(lambda x: x if (Limite_Inferior_RET_IVA <= x) & (x <= Limite_Superior_RET_IVA) else None)\n",
        "df1['RET ISR'] = df1['RET ISR'].apply(lambda x: x if (Limite_Inferior_RET_ISR <= x) & (x <= Limite_Superior_RET_ISR) else None)\n",
        "#Convertir DataFrame a CSV\n",
        "df1.to_csv(\"archivo9.csv\")\n",
        "from google.colab import files\n",
        "files.download(\"archivo9.csv\")"
      ],
      "metadata": {
        "colab": {
          "base_uri": "https://localhost:8080/",
          "height": 17
        },
        "id": "zHdxPbxN_Gjd",
        "outputId": "d9fbffd6-7714-4ed0-92de-14b2dcedf9cc"
      },
      "execution_count": 199,
      "outputs": [
        {
          "output_type": "display_data",
          "data": {
            "text/plain": [
              "<IPython.core.display.Javascript object>"
            ],
            "application/javascript": [
              "\n",
              "    async function download(id, filename, size) {\n",
              "      if (!google.colab.kernel.accessAllowed) {\n",
              "        return;\n",
              "      }\n",
              "      const div = document.createElement('div');\n",
              "      const label = document.createElement('label');\n",
              "      label.textContent = `Downloading \"${filename}\": `;\n",
              "      div.appendChild(label);\n",
              "      const progress = document.createElement('progress');\n",
              "      progress.max = size;\n",
              "      div.appendChild(progress);\n",
              "      document.body.appendChild(div);\n",
              "\n",
              "      const buffers = [];\n",
              "      let downloaded = 0;\n",
              "\n",
              "      const channel = await google.colab.kernel.comms.open(id);\n",
              "      // Send a message to notify the kernel that we're ready.\n",
              "      channel.send({})\n",
              "\n",
              "      for await (const message of channel.messages) {\n",
              "        // Send a message to notify the kernel that we're ready.\n",
              "        channel.send({})\n",
              "        if (message.buffers) {\n",
              "          for (const buffer of message.buffers) {\n",
              "            buffers.push(buffer);\n",
              "            downloaded += buffer.byteLength;\n",
              "            progress.value = downloaded;\n",
              "          }\n",
              "        }\n",
              "      }\n",
              "      const blob = new Blob(buffers, {type: 'application/binary'});\n",
              "      const a = document.createElement('a');\n",
              "      a.href = window.URL.createObjectURL(blob);\n",
              "      a.download = filename;\n",
              "      div.appendChild(a);\n",
              "      a.click();\n",
              "      div.remove();\n",
              "    }\n",
              "  "
            ]
          },
          "metadata": {}
        },
        {
          "output_type": "display_data",
          "data": {
            "text/plain": [
              "<IPython.core.display.Javascript object>"
            ],
            "application/javascript": [
              "download(\"download_1891f852-1758-4bc1-9ec7-ea53da57cf54\", \"archivo9.csv\", 87185)"
            ]
          },
          "metadata": {}
        }
      ]
    },
    {
      "cell_type": "code",
      "source": [
        "df1.isnull().sum()"
      ],
      "metadata": {
        "colab": {
          "base_uri": "https://localhost:8080/"
        },
        "id": "dThLIijaCf_b",
        "outputId": "aaf6bad7-7a25-483a-f4a3-2de6c670fae0"
      },
      "execution_count": 200,
      "outputs": [
        {
          "output_type": "execute_result",
          "data": {
            "text/plain": [
              "Fecha          0\n",
              "Folio          0\n",
              "UUID           0\n",
              "RFC            0\n",
              "Proveedor      0\n",
              "TIPO GASTO     0\n",
              "Descripción    0\n",
              "MP             0\n",
              "FP             0\n",
              "TC             0\n",
              "Importe        0\n",
              "IVA            0\n",
              "RET ISR        4\n",
              "RET IVA        6\n",
              "TOTAL MX       9\n",
              "TOTAL SAT      9\n",
              "Tipo           0\n",
              "Status         0\n",
              "Poliza         0\n",
              "dtype: int64"
            ]
          },
          "metadata": {},
          "execution_count": 200
        }
      ]
    },
    {
      "cell_type": "code",
      "source": [
        "#Reemplazamos valores atípicos (nulos) del dataframe con \"mean\"\n",
        "df1=df1.fillna(round(df1.mean(),1))\n",
        "# Verificamos que no haya mas nulos\n",
        "df1.isnull().sum()"
      ],
      "metadata": {
        "colab": {
          "base_uri": "https://localhost:8080/"
        },
        "id": "6M__-f9dC5Ct",
        "outputId": "448f9675-68db-46fc-d317-652ca647f0d0"
      },
      "execution_count": 201,
      "outputs": [
        {
          "output_type": "stream",
          "name": "stderr",
          "text": [
            "<ipython-input-201-2ae7f7f3d779>:2: FutureWarning: DataFrame.mean and DataFrame.median with numeric_only=None will include datetime64 and datetime64tz columns in a future version.\n",
            "  df1=df1.fillna(round(df1.mean(),1))\n",
            "<ipython-input-201-2ae7f7f3d779>:2: FutureWarning: The default value of numeric_only in DataFrame.mean is deprecated. In a future version, it will default to False. In addition, specifying 'numeric_only=None' is deprecated. Select only valid columns or specify the value of numeric_only to silence this warning.\n",
            "  df1=df1.fillna(round(df1.mean(),1))\n"
          ]
        },
        {
          "output_type": "execute_result",
          "data": {
            "text/plain": [
              "Fecha          0\n",
              "Folio          0\n",
              "UUID           0\n",
              "RFC            0\n",
              "Proveedor      0\n",
              "TIPO GASTO     0\n",
              "Descripción    0\n",
              "MP             0\n",
              "FP             0\n",
              "TC             0\n",
              "Importe        0\n",
              "IVA            0\n",
              "RET ISR        0\n",
              "RET IVA        0\n",
              "TOTAL MX       0\n",
              "TOTAL SAT      0\n",
              "Tipo           0\n",
              "Status         0\n",
              "Poliza         0\n",
              "dtype: int64"
            ]
          },
          "metadata": {},
          "execution_count": 201
        }
      ]
    },
    {
      "cell_type": "code",
      "source": [
        "#Convertir DataFrame a CSV\n",
        "df1.to_csv(\"archivo10.csv\")\n",
        "from google.colab import files\n",
        "files.download(\"archivo10.csv\")"
      ],
      "metadata": {
        "colab": {
          "base_uri": "https://localhost:8080/",
          "height": 17
        },
        "id": "lZLiFdPtHIQx",
        "outputId": "2b05b18a-fcd3-4bf5-ec33-ee76ffbee9db"
      },
      "execution_count": 202,
      "outputs": [
        {
          "output_type": "display_data",
          "data": {
            "text/plain": [
              "<IPython.core.display.Javascript object>"
            ],
            "application/javascript": [
              "\n",
              "    async function download(id, filename, size) {\n",
              "      if (!google.colab.kernel.accessAllowed) {\n",
              "        return;\n",
              "      }\n",
              "      const div = document.createElement('div');\n",
              "      const label = document.createElement('label');\n",
              "      label.textContent = `Downloading \"${filename}\": `;\n",
              "      div.appendChild(label);\n",
              "      const progress = document.createElement('progress');\n",
              "      progress.max = size;\n",
              "      div.appendChild(progress);\n",
              "      document.body.appendChild(div);\n",
              "\n",
              "      const buffers = [];\n",
              "      let downloaded = 0;\n",
              "\n",
              "      const channel = await google.colab.kernel.comms.open(id);\n",
              "      // Send a message to notify the kernel that we're ready.\n",
              "      channel.send({})\n",
              "\n",
              "      for await (const message of channel.messages) {\n",
              "        // Send a message to notify the kernel that we're ready.\n",
              "        channel.send({})\n",
              "        if (message.buffers) {\n",
              "          for (const buffer of message.buffers) {\n",
              "            buffers.push(buffer);\n",
              "            downloaded += buffer.byteLength;\n",
              "            progress.value = downloaded;\n",
              "          }\n",
              "        }\n",
              "      }\n",
              "      const blob = new Blob(buffers, {type: 'application/binary'});\n",
              "      const a = document.createElement('a');\n",
              "      a.href = window.URL.createObjectURL(blob);\n",
              "      a.download = filename;\n",
              "      div.appendChild(a);\n",
              "      a.click();\n",
              "      div.remove();\n",
              "    }\n",
              "  "
            ]
          },
          "metadata": {}
        },
        {
          "output_type": "display_data",
          "data": {
            "text/plain": [
              "<IPython.core.display.Javascript object>"
            ],
            "application/javascript": [
              "download(\"download_725e0d25-efc6-4d59-a5db-0ae0ea6b9e54\", \"archivo10.csv\", 87323)"
            ]
          },
          "metadata": {}
        }
      ]
    },
    {
      "cell_type": "code",
      "source": [
        "# IVA, IPORTE Y TC SON LOS ULTIMOS EN CONTENER OUTLIERS, POR LO QUE LOS SUSTITUIMOS\n",
        "# EL METODO DE LOS CUANTILES\n",
        "columnas_interes = ['IVA', 'Importe', 'TC']\n",
        "\n",
        "percentile25 = df1[columnas_interes].quantile(0.25)\n",
        "percentile75 = df1[columnas_interes].quantile(0.75)\n",
        "\n",
        "iqr = percentile75 - percentile25\n",
        "\n",
        "Limite_Superior_iqr = percentile75 + 1.5 * iqr\n",
        "Limite_Inferior_iqr = percentile25 - 1.5 * iqr\n",
        "\n",
        "print(\"Límite superior permitido (IQR):\")\n",
        "print(Limite_Superior_iqr)\n",
        "\n",
        "print(\"Límite inferior permitido (IQR):\")\n",
        "print(Limite_Inferior_iqr)"
      ],
      "metadata": {
        "colab": {
          "base_uri": "https://localhost:8080/"
        },
        "id": "rj7hv199D0XZ",
        "outputId": "669b6852-9cef-44ef-fbed-c56ee2d9855a"
      },
      "execution_count": 203,
      "outputs": [
        {
          "output_type": "stream",
          "name": "stdout",
          "text": [
            "Límite superior permitido (IQR):\n",
            "IVA        1120.00\n",
            "Importe    9075.43\n",
            "TC            1.00\n",
            "dtype: float64\n",
            "Límite inferior permitido (IQR):\n",
            "IVA        -672.00\n",
            "Importe   -5259.05\n",
            "TC            1.00\n",
            "dtype: float64\n"
          ]
        }
      ]
    },
    {
      "cell_type": "code",
      "source": [
        "for columna in columnas_interes:\n",
        "    df1[columna] = df1[columna].apply(lambda x: x if (Limite_Inferior_iqr[columna] <= x) & (x <= Limite_Superior_iqr[columna]) else None)"
      ],
      "metadata": {
        "id": "4U54pd3CEN3f"
      },
      "execution_count": 204,
      "outputs": []
    },
    {
      "cell_type": "code",
      "source": [
        "#Convertir DataFrame a CSV\n",
        "df1.to_csv(\"archivo11.csv\")\n",
        "from google.colab import files\n",
        "files.download(\"archivo11.csv\")"
      ],
      "metadata": {
        "colab": {
          "base_uri": "https://localhost:8080/",
          "height": 17
        },
        "id": "I84sWKBpHN4u",
        "outputId": "5d378adb-de58-4f16-e3a1-87ef59e928ea"
      },
      "execution_count": 205,
      "outputs": [
        {
          "output_type": "display_data",
          "data": {
            "text/plain": [
              "<IPython.core.display.Javascript object>"
            ],
            "application/javascript": [
              "\n",
              "    async function download(id, filename, size) {\n",
              "      if (!google.colab.kernel.accessAllowed) {\n",
              "        return;\n",
              "      }\n",
              "      const div = document.createElement('div');\n",
              "      const label = document.createElement('label');\n",
              "      label.textContent = `Downloading \"${filename}\": `;\n",
              "      div.appendChild(label);\n",
              "      const progress = document.createElement('progress');\n",
              "      progress.max = size;\n",
              "      div.appendChild(progress);\n",
              "      document.body.appendChild(div);\n",
              "\n",
              "      const buffers = [];\n",
              "      let downloaded = 0;\n",
              "\n",
              "      const channel = await google.colab.kernel.comms.open(id);\n",
              "      // Send a message to notify the kernel that we're ready.\n",
              "      channel.send({})\n",
              "\n",
              "      for await (const message of channel.messages) {\n",
              "        // Send a message to notify the kernel that we're ready.\n",
              "        channel.send({})\n",
              "        if (message.buffers) {\n",
              "          for (const buffer of message.buffers) {\n",
              "            buffers.push(buffer);\n",
              "            downloaded += buffer.byteLength;\n",
              "            progress.value = downloaded;\n",
              "          }\n",
              "        }\n",
              "      }\n",
              "      const blob = new Blob(buffers, {type: 'application/binary'});\n",
              "      const a = document.createElement('a');\n",
              "      a.href = window.URL.createObjectURL(blob);\n",
              "      a.download = filename;\n",
              "      div.appendChild(a);\n",
              "      a.click();\n",
              "      div.remove();\n",
              "    }\n",
              "  "
            ]
          },
          "metadata": {}
        },
        {
          "output_type": "display_data",
          "data": {
            "text/plain": [
              "<IPython.core.display.Javascript object>"
            ],
            "application/javascript": [
              "download(\"download_9d69aa66-506c-44eb-9329-895a4ff384c2\", \"archivo11.csv\", 86616)"
            ]
          },
          "metadata": {}
        }
      ]
    },
    {
      "cell_type": "code",
      "source": [
        "df1.isnull().sum()"
      ],
      "metadata": {
        "colab": {
          "base_uri": "https://localhost:8080/"
        },
        "id": "DOAvjF7lFxTM",
        "outputId": "685ee7c4-e561-43a9-8acd-d1f1392e0e86"
      },
      "execution_count": 206,
      "outputs": [
        {
          "output_type": "execute_result",
          "data": {
            "text/plain": [
              "Fecha           0\n",
              "Folio           0\n",
              "UUID            0\n",
              "RFC             0\n",
              "Proveedor       0\n",
              "TIPO GASTO      0\n",
              "Descripción     0\n",
              "MP              0\n",
              "FP              0\n",
              "TC              2\n",
              "Importe        50\n",
              "IVA            49\n",
              "RET ISR         0\n",
              "RET IVA         0\n",
              "TOTAL MX        0\n",
              "TOTAL SAT       0\n",
              "Tipo            0\n",
              "Status          0\n",
              "Poliza          0\n",
              "dtype: int64"
            ]
          },
          "metadata": {},
          "execution_count": 206
        }
      ]
    },
    {
      "cell_type": "code",
      "source": [
        "#Reemplazamos valores atípicos (nulos) del dataframe con \"mean\"\n",
        "df1=df1.fillna(round(df1.mean(),1))\n",
        "# Verificamos que no haya mas nulos\n",
        "df1.isnull().sum()"
      ],
      "metadata": {
        "colab": {
          "base_uri": "https://localhost:8080/"
        },
        "id": "OD6Gd5L3F7RM",
        "outputId": "e4d1f5e3-8285-41b7-c781-040ea60324d8"
      },
      "execution_count": 207,
      "outputs": [
        {
          "output_type": "stream",
          "name": "stderr",
          "text": [
            "<ipython-input-207-2ae7f7f3d779>:2: FutureWarning: DataFrame.mean and DataFrame.median with numeric_only=None will include datetime64 and datetime64tz columns in a future version.\n",
            "  df1=df1.fillna(round(df1.mean(),1))\n",
            "<ipython-input-207-2ae7f7f3d779>:2: FutureWarning: The default value of numeric_only in DataFrame.mean is deprecated. In a future version, it will default to False. In addition, specifying 'numeric_only=None' is deprecated. Select only valid columns or specify the value of numeric_only to silence this warning.\n",
            "  df1=df1.fillna(round(df1.mean(),1))\n"
          ]
        },
        {
          "output_type": "execute_result",
          "data": {
            "text/plain": [
              "Fecha          0\n",
              "Folio          0\n",
              "UUID           0\n",
              "RFC            0\n",
              "Proveedor      0\n",
              "TIPO GASTO     0\n",
              "Descripción    0\n",
              "MP             0\n",
              "FP             0\n",
              "TC             0\n",
              "Importe        0\n",
              "IVA            0\n",
              "RET ISR        0\n",
              "RET IVA        0\n",
              "TOTAL MX       0\n",
              "TOTAL SAT      0\n",
              "Tipo           0\n",
              "Status         0\n",
              "Poliza         0\n",
              "dtype: int64"
            ]
          },
          "metadata": {},
          "execution_count": 207
        }
      ]
    },
    {
      "cell_type": "code",
      "source": [
        "#Convertir DataFrame a CSV\n",
        "df1.to_csv(\"DATOS_LIMPIOS12.csv\")\n",
        "from google.colab import files\n",
        "files.download(\"DATOS_LIMPIOS12.csv\")"
      ],
      "metadata": {
        "colab": {
          "base_uri": "https://localhost:8080/",
          "height": 17
        },
        "id": "pIOPKsmpHShD",
        "outputId": "442e5389-d214-4ffc-ff8a-055af3ca416c"
      },
      "execution_count": 208,
      "outputs": [
        {
          "output_type": "display_data",
          "data": {
            "text/plain": [
              "<IPython.core.display.Javascript object>"
            ],
            "application/javascript": [
              "\n",
              "    async function download(id, filename, size) {\n",
              "      if (!google.colab.kernel.accessAllowed) {\n",
              "        return;\n",
              "      }\n",
              "      const div = document.createElement('div');\n",
              "      const label = document.createElement('label');\n",
              "      label.textContent = `Downloading \"${filename}\": `;\n",
              "      div.appendChild(label);\n",
              "      const progress = document.createElement('progress');\n",
              "      progress.max = size;\n",
              "      div.appendChild(progress);\n",
              "      document.body.appendChild(div);\n",
              "\n",
              "      const buffers = [];\n",
              "      let downloaded = 0;\n",
              "\n",
              "      const channel = await google.colab.kernel.comms.open(id);\n",
              "      // Send a message to notify the kernel that we're ready.\n",
              "      channel.send({})\n",
              "\n",
              "      for await (const message of channel.messages) {\n",
              "        // Send a message to notify the kernel that we're ready.\n",
              "        channel.send({})\n",
              "        if (message.buffers) {\n",
              "          for (const buffer of message.buffers) {\n",
              "            buffers.push(buffer);\n",
              "            downloaded += buffer.byteLength;\n",
              "            progress.value = downloaded;\n",
              "          }\n",
              "        }\n",
              "      }\n",
              "      const blob = new Blob(buffers, {type: 'application/binary'});\n",
              "      const a = document.createElement('a');\n",
              "      a.href = window.URL.createObjectURL(blob);\n",
              "      a.download = filename;\n",
              "      div.appendChild(a);\n",
              "      a.click();\n",
              "      div.remove();\n",
              "    }\n",
              "  "
            ]
          },
          "metadata": {}
        },
        {
          "output_type": "display_data",
          "data": {
            "text/plain": [
              "<IPython.core.display.Javascript object>"
            ],
            "application/javascript": [
              "download(\"download_bda9562e-95e4-4e9e-9483-5ca2dc55ce09\", \"DATOS_LIMPIOS12.csv\", 87167)"
            ]
          },
          "metadata": {}
        }
      ]
    }
  ]
}